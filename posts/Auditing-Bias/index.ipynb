{
 "cells": [
  {
   "cell_type": "raw",
   "metadata": {
    "vscode": {
     "languageId": "raw"
    }
   },
   "source": [
    "---\n",
    "title: Blog Post 2 - Auditing Bias\n",
    "author: Jackson Hanson\n",
    "date: '2025-03-04'\n",
    "image: \"image.jpg\"\n",
    "description: \"Blog Post 2!\"\n",
    "format: html\n",
    "---"
   ]
  },
  {
   "cell_type": "markdown",
   "metadata": {},
   "source": [
    "# Blog Post 2 - Auditing Bias"
   ]
  },
  {
   "cell_type": "markdown",
   "metadata": {},
   "source": [
    "# Abstract\n",
    "\n",
    "In this Blog post, we will conducted a bias audit on a Random Forest classification model for employment status, evaluating its fairness across racial. Using key fairness metrics such as calibration, error rate balance, and statistical parity, I analyzed whether the model produced consistent predictions across races. I implemented Chouldechova’s feasibility equation to assess the tradeoff between false positive and false negative rates, visualizing the results in a feasibility graph. Additionally, I examined disparities in employment outcomes across groups, highlighting potential systemic biases. The findings provide insight into how algorithmic predictions may reinforce existing inequalities, emphasizing the importance of fairness considerations in predictive modeling."
   ]
  },
  {
   "cell_type": "markdown",
   "metadata": {},
   "source": [
    "First, I will load in the data from the PUMS dataset for the state of Texas. This dataset has many, many feaures as you can see below."
   ]
  },
  {
   "cell_type": "code",
   "execution_count": 7,
   "metadata": {},
   "outputs": [
    {
     "data": {
      "text/html": [
       "<div>\n",
       "<style scoped>\n",
       "    .dataframe tbody tr th:only-of-type {\n",
       "        vertical-align: middle;\n",
       "    }\n",
       "\n",
       "    .dataframe tbody tr th {\n",
       "        vertical-align: top;\n",
       "    }\n",
       "\n",
       "    .dataframe thead th {\n",
       "        text-align: right;\n",
       "    }\n",
       "</style>\n",
       "<table border=\"1\" class=\"dataframe\">\n",
       "  <thead>\n",
       "    <tr style=\"text-align: right;\">\n",
       "      <th></th>\n",
       "      <th>RT</th>\n",
       "      <th>SERIALNO</th>\n",
       "      <th>DIVISION</th>\n",
       "      <th>SPORDER</th>\n",
       "      <th>PUMA</th>\n",
       "      <th>REGION</th>\n",
       "      <th>ST</th>\n",
       "      <th>ADJINC</th>\n",
       "      <th>PWGTP</th>\n",
       "      <th>AGEP</th>\n",
       "      <th>...</th>\n",
       "      <th>PWGTP71</th>\n",
       "      <th>PWGTP72</th>\n",
       "      <th>PWGTP73</th>\n",
       "      <th>PWGTP74</th>\n",
       "      <th>PWGTP75</th>\n",
       "      <th>PWGTP76</th>\n",
       "      <th>PWGTP77</th>\n",
       "      <th>PWGTP78</th>\n",
       "      <th>PWGTP79</th>\n",
       "      <th>PWGTP80</th>\n",
       "    </tr>\n",
       "  </thead>\n",
       "  <tbody>\n",
       "    <tr>\n",
       "      <th>0</th>\n",
       "      <td>P</td>\n",
       "      <td>2018GQ0000026</td>\n",
       "      <td>7</td>\n",
       "      <td>1</td>\n",
       "      <td>5000</td>\n",
       "      <td>3</td>\n",
       "      <td>48</td>\n",
       "      <td>1013097</td>\n",
       "      <td>29</td>\n",
       "      <td>21</td>\n",
       "      <td>...</td>\n",
       "      <td>29</td>\n",
       "      <td>4</td>\n",
       "      <td>5</td>\n",
       "      <td>54</td>\n",
       "      <td>27</td>\n",
       "      <td>52</td>\n",
       "      <td>28</td>\n",
       "      <td>29</td>\n",
       "      <td>52</td>\n",
       "      <td>29</td>\n",
       "    </tr>\n",
       "    <tr>\n",
       "      <th>1</th>\n",
       "      <td>P</td>\n",
       "      <td>2018GQ0000057</td>\n",
       "      <td>7</td>\n",
       "      <td>1</td>\n",
       "      <td>6601</td>\n",
       "      <td>3</td>\n",
       "      <td>48</td>\n",
       "      <td>1013097</td>\n",
       "      <td>16</td>\n",
       "      <td>19</td>\n",
       "      <td>...</td>\n",
       "      <td>33</td>\n",
       "      <td>3</td>\n",
       "      <td>18</td>\n",
       "      <td>16</td>\n",
       "      <td>32</td>\n",
       "      <td>3</td>\n",
       "      <td>18</td>\n",
       "      <td>16</td>\n",
       "      <td>2</td>\n",
       "      <td>2</td>\n",
       "    </tr>\n",
       "    <tr>\n",
       "      <th>2</th>\n",
       "      <td>P</td>\n",
       "      <td>2018GQ0000070</td>\n",
       "      <td>7</td>\n",
       "      <td>1</td>\n",
       "      <td>4302</td>\n",
       "      <td>3</td>\n",
       "      <td>48</td>\n",
       "      <td>1013097</td>\n",
       "      <td>64</td>\n",
       "      <td>24</td>\n",
       "      <td>...</td>\n",
       "      <td>14</td>\n",
       "      <td>64</td>\n",
       "      <td>110</td>\n",
       "      <td>62</td>\n",
       "      <td>14</td>\n",
       "      <td>15</td>\n",
       "      <td>64</td>\n",
       "      <td>64</td>\n",
       "      <td>13</td>\n",
       "      <td>67</td>\n",
       "    </tr>\n",
       "    <tr>\n",
       "      <th>3</th>\n",
       "      <td>P</td>\n",
       "      <td>2018GQ0000079</td>\n",
       "      <td>7</td>\n",
       "      <td>1</td>\n",
       "      <td>700</td>\n",
       "      <td>3</td>\n",
       "      <td>48</td>\n",
       "      <td>1013097</td>\n",
       "      <td>260</td>\n",
       "      <td>20</td>\n",
       "      <td>...</td>\n",
       "      <td>57</td>\n",
       "      <td>451</td>\n",
       "      <td>261</td>\n",
       "      <td>272</td>\n",
       "      <td>59</td>\n",
       "      <td>477</td>\n",
       "      <td>261</td>\n",
       "      <td>258</td>\n",
       "      <td>480</td>\n",
       "      <td>56</td>\n",
       "    </tr>\n",
       "    <tr>\n",
       "      <th>4</th>\n",
       "      <td>P</td>\n",
       "      <td>2018GQ0000082</td>\n",
       "      <td>7</td>\n",
       "      <td>1</td>\n",
       "      <td>900</td>\n",
       "      <td>3</td>\n",
       "      <td>48</td>\n",
       "      <td>1013097</td>\n",
       "      <td>12</td>\n",
       "      <td>31</td>\n",
       "      <td>...</td>\n",
       "      <td>10</td>\n",
       "      <td>3</td>\n",
       "      <td>11</td>\n",
       "      <td>22</td>\n",
       "      <td>12</td>\n",
       "      <td>20</td>\n",
       "      <td>1</td>\n",
       "      <td>12</td>\n",
       "      <td>21</td>\n",
       "      <td>1</td>\n",
       "    </tr>\n",
       "  </tbody>\n",
       "</table>\n",
       "<p>5 rows × 286 columns</p>\n",
       "</div>"
      ],
      "text/plain": [
       "  RT       SERIALNO  DIVISION  SPORDER  PUMA  REGION  ST   ADJINC  PWGTP  \\\n",
       "0  P  2018GQ0000026         7        1  5000       3  48  1013097     29   \n",
       "1  P  2018GQ0000057         7        1  6601       3  48  1013097     16   \n",
       "2  P  2018GQ0000070         7        1  4302       3  48  1013097     64   \n",
       "3  P  2018GQ0000079         7        1   700       3  48  1013097    260   \n",
       "4  P  2018GQ0000082         7        1   900       3  48  1013097     12   \n",
       "\n",
       "   AGEP  ...  PWGTP71  PWGTP72  PWGTP73  PWGTP74  PWGTP75  PWGTP76  PWGTP77  \\\n",
       "0    21  ...       29        4        5       54       27       52       28   \n",
       "1    19  ...       33        3       18       16       32        3       18   \n",
       "2    24  ...       14       64      110       62       14       15       64   \n",
       "3    20  ...       57      451      261      272       59      477      261   \n",
       "4    31  ...       10        3       11       22       12       20        1   \n",
       "\n",
       "   PWGTP78  PWGTP79  PWGTP80  \n",
       "0       29       52       29  \n",
       "1       16        2        2  \n",
       "2       64       13       67  \n",
       "3      258      480       56  \n",
       "4       12       21        1  \n",
       "\n",
       "[5 rows x 286 columns]"
      ]
     },
     "execution_count": 7,
     "metadata": {},
     "output_type": "execute_result"
    }
   ],
   "source": [
    "from folktables import ACSDataSource, ACSEmployment, BasicProblem, adult_filter\n",
    "import numpy as np\n",
    "\n",
    "STATE = \"TX\"\n",
    "\n",
    "data_source = ACSDataSource(survey_year='2018', \n",
    "                            horizon='1-Year', \n",
    "                            survey='person')\n",
    "\n",
    "acs_data = data_source.get_data(states=[STATE], download=True)\n",
    "\n",
    "acs_data.head()"
   ]
  },
  {
   "cell_type": "markdown",
   "metadata": {},
   "source": [
    "Here is a list of possible features that we can include in our model. These feautures include sex, race, age, and others. "
   ]
  },
  {
   "cell_type": "code",
   "execution_count": 8,
   "metadata": {},
   "outputs": [
    {
     "data": {
      "text/html": [
       "<div>\n",
       "<style scoped>\n",
       "    .dataframe tbody tr th:only-of-type {\n",
       "        vertical-align: middle;\n",
       "    }\n",
       "\n",
       "    .dataframe tbody tr th {\n",
       "        vertical-align: top;\n",
       "    }\n",
       "\n",
       "    .dataframe thead th {\n",
       "        text-align: right;\n",
       "    }\n",
       "</style>\n",
       "<table border=\"1\" class=\"dataframe\">\n",
       "  <thead>\n",
       "    <tr style=\"text-align: right;\">\n",
       "      <th></th>\n",
       "      <th>AGEP</th>\n",
       "      <th>SCHL</th>\n",
       "      <th>MAR</th>\n",
       "      <th>RELP</th>\n",
       "      <th>DIS</th>\n",
       "      <th>ESP</th>\n",
       "      <th>CIT</th>\n",
       "      <th>MIG</th>\n",
       "      <th>MIL</th>\n",
       "      <th>ANC</th>\n",
       "      <th>NATIVITY</th>\n",
       "      <th>DEAR</th>\n",
       "      <th>DEYE</th>\n",
       "      <th>DREM</th>\n",
       "      <th>SEX</th>\n",
       "      <th>RAC1P</th>\n",
       "      <th>ESR</th>\n",
       "    </tr>\n",
       "  </thead>\n",
       "  <tbody>\n",
       "    <tr>\n",
       "      <th>0</th>\n",
       "      <td>21</td>\n",
       "      <td>16.0</td>\n",
       "      <td>5</td>\n",
       "      <td>17</td>\n",
       "      <td>2</td>\n",
       "      <td>NaN</td>\n",
       "      <td>1</td>\n",
       "      <td>1.0</td>\n",
       "      <td>4.0</td>\n",
       "      <td>1</td>\n",
       "      <td>1</td>\n",
       "      <td>2</td>\n",
       "      <td>2</td>\n",
       "      <td>2.0</td>\n",
       "      <td>2</td>\n",
       "      <td>2</td>\n",
       "      <td>1.0</td>\n",
       "    </tr>\n",
       "    <tr>\n",
       "      <th>1</th>\n",
       "      <td>19</td>\n",
       "      <td>16.0</td>\n",
       "      <td>5</td>\n",
       "      <td>17</td>\n",
       "      <td>2</td>\n",
       "      <td>NaN</td>\n",
       "      <td>1</td>\n",
       "      <td>1.0</td>\n",
       "      <td>4.0</td>\n",
       "      <td>1</td>\n",
       "      <td>1</td>\n",
       "      <td>2</td>\n",
       "      <td>2</td>\n",
       "      <td>2.0</td>\n",
       "      <td>2</td>\n",
       "      <td>1</td>\n",
       "      <td>6.0</td>\n",
       "    </tr>\n",
       "    <tr>\n",
       "      <th>2</th>\n",
       "      <td>24</td>\n",
       "      <td>12.0</td>\n",
       "      <td>5</td>\n",
       "      <td>16</td>\n",
       "      <td>1</td>\n",
       "      <td>NaN</td>\n",
       "      <td>1</td>\n",
       "      <td>1.0</td>\n",
       "      <td>4.0</td>\n",
       "      <td>1</td>\n",
       "      <td>1</td>\n",
       "      <td>2</td>\n",
       "      <td>2</td>\n",
       "      <td>1.0</td>\n",
       "      <td>1</td>\n",
       "      <td>2</td>\n",
       "      <td>6.0</td>\n",
       "    </tr>\n",
       "    <tr>\n",
       "      <th>3</th>\n",
       "      <td>20</td>\n",
       "      <td>16.0</td>\n",
       "      <td>5</td>\n",
       "      <td>17</td>\n",
       "      <td>2</td>\n",
       "      <td>NaN</td>\n",
       "      <td>1</td>\n",
       "      <td>1.0</td>\n",
       "      <td>3.0</td>\n",
       "      <td>1</td>\n",
       "      <td>1</td>\n",
       "      <td>2</td>\n",
       "      <td>2</td>\n",
       "      <td>2.0</td>\n",
       "      <td>2</td>\n",
       "      <td>1</td>\n",
       "      <td>1.0</td>\n",
       "    </tr>\n",
       "    <tr>\n",
       "      <th>4</th>\n",
       "      <td>31</td>\n",
       "      <td>17.0</td>\n",
       "      <td>5</td>\n",
       "      <td>17</td>\n",
       "      <td>2</td>\n",
       "      <td>NaN</td>\n",
       "      <td>1</td>\n",
       "      <td>3.0</td>\n",
       "      <td>4.0</td>\n",
       "      <td>4</td>\n",
       "      <td>1</td>\n",
       "      <td>2</td>\n",
       "      <td>2</td>\n",
       "      <td>2.0</td>\n",
       "      <td>1</td>\n",
       "      <td>1</td>\n",
       "      <td>1.0</td>\n",
       "    </tr>\n",
       "  </tbody>\n",
       "</table>\n",
       "</div>"
      ],
      "text/plain": [
       "   AGEP  SCHL  MAR  RELP  DIS  ESP  CIT  MIG  MIL  ANC  NATIVITY  DEAR  DEYE  \\\n",
       "0    21  16.0    5    17    2  NaN    1  1.0  4.0    1         1     2     2   \n",
       "1    19  16.0    5    17    2  NaN    1  1.0  4.0    1         1     2     2   \n",
       "2    24  12.0    5    16    1  NaN    1  1.0  4.0    1         1     2     2   \n",
       "3    20  16.0    5    17    2  NaN    1  1.0  3.0    1         1     2     2   \n",
       "4    31  17.0    5    17    2  NaN    1  3.0  4.0    4         1     2     2   \n",
       "\n",
       "   DREM  SEX  RAC1P  ESR  \n",
       "0   2.0    2      2  1.0  \n",
       "1   2.0    2      1  6.0  \n",
       "2   1.0    1      2  6.0  \n",
       "3   2.0    2      1  1.0  \n",
       "4   2.0    1      1  1.0  "
      ]
     },
     "execution_count": 8,
     "metadata": {},
     "output_type": "execute_result"
    }
   ],
   "source": [
    "possible_features=['AGEP', 'SCHL', 'MAR', 'RELP', 'DIS', 'ESP', 'CIT', 'MIG', 'MIL', 'ANC', 'NATIVITY', 'DEAR', 'DEYE', 'DREM', 'SEX', 'RAC1P', 'ESR']\n",
    "acs_data[possible_features].head()"
   ]
  },
  {
   "cell_type": "markdown",
   "metadata": {},
   "source": [
    "Because I am looking to predict employment, I will remove it from the features list. Similarly, I will remove race because that is what I am auditing."
   ]
  },
  {
   "cell_type": "code",
   "execution_count": 9,
   "metadata": {},
   "outputs": [],
   "source": [
    "features_to_use = [f for f in possible_features if f not in [\"ESR\", \"RAC1P\"]]"
   ]
  },
  {
   "cell_type": "markdown",
   "metadata": {},
   "source": [
    "Here, I define that basic problem for this project. Key parameters in this `EmploymentProblem` are the feautres that I defined above are the target (employment) and the group (race). Additionally, `target_transform` maps all numbers that are not equal to 1 to 0. So now, we have a column of True/False values for this column. \n",
    "\n",
    "Now the employement column is a boolean and the race column is an integer column with the 9 cateogories of race defined in the dataset."
   ]
  },
  {
   "cell_type": "code",
   "execution_count": 10,
   "metadata": {},
   "outputs": [],
   "source": [
    "EmploymentProblem = BasicProblem(\n",
    "    features=features_to_use,\n",
    "    target='ESR',\n",
    "    target_transform=lambda x: x == 1,\n",
    "    group='RAC1P',\n",
    "    preprocess=lambda x: x,\n",
    "    postprocess=lambda x: np.nan_to_num(x, -1),\n",
    ")\n",
    "\n",
    "features, label, group = EmploymentProblem.df_to_numpy(acs_data)"
   ]
  },
  {
   "cell_type": "markdown",
   "metadata": {},
   "source": [
    "Now, we create our 80/20 train/test split on the data."
   ]
  },
  {
   "cell_type": "code",
   "execution_count": 11,
   "metadata": {},
   "outputs": [],
   "source": [
    "from sklearn.model_selection import train_test_split\n",
    "X_train, X_test, y_train, y_test, group_train, group_test = train_test_split(\n",
    "    features, label, group, test_size=0.2, random_state=0)"
   ]
  },
  {
   "cell_type": "markdown",
   "metadata": {},
   "source": [
    "# Basic Questions"
   ]
  },
  {
   "cell_type": "markdown",
   "metadata": {},
   "source": [
    "Let's put the training data features, group, and label into a single dataframe to make answering basic questions a little easier. "
   ]
  },
  {
   "cell_type": "code",
   "execution_count": 12,
   "metadata": {},
   "outputs": [
    {
     "data": {
      "text/html": [
       "<div>\n",
       "<style scoped>\n",
       "    .dataframe tbody tr th:only-of-type {\n",
       "        vertical-align: middle;\n",
       "    }\n",
       "\n",
       "    .dataframe tbody tr th {\n",
       "        vertical-align: top;\n",
       "    }\n",
       "\n",
       "    .dataframe thead th {\n",
       "        text-align: right;\n",
       "    }\n",
       "</style>\n",
       "<table border=\"1\" class=\"dataframe\">\n",
       "  <thead>\n",
       "    <tr style=\"text-align: right;\">\n",
       "      <th></th>\n",
       "      <th>AGEP</th>\n",
       "      <th>SCHL</th>\n",
       "      <th>MAR</th>\n",
       "      <th>RELP</th>\n",
       "      <th>DIS</th>\n",
       "      <th>ESP</th>\n",
       "      <th>CIT</th>\n",
       "      <th>MIG</th>\n",
       "      <th>MIL</th>\n",
       "      <th>ANC</th>\n",
       "      <th>NATIVITY</th>\n",
       "      <th>DEAR</th>\n",
       "      <th>DEYE</th>\n",
       "      <th>DREM</th>\n",
       "      <th>SEX</th>\n",
       "      <th>group</th>\n",
       "      <th>label</th>\n",
       "    </tr>\n",
       "  </thead>\n",
       "  <tbody>\n",
       "    <tr>\n",
       "      <th>0</th>\n",
       "      <td>62.0</td>\n",
       "      <td>13.0</td>\n",
       "      <td>3.0</td>\n",
       "      <td>0.0</td>\n",
       "      <td>2.0</td>\n",
       "      <td>0.0</td>\n",
       "      <td>4.0</td>\n",
       "      <td>3.0</td>\n",
       "      <td>4.0</td>\n",
       "      <td>1.0</td>\n",
       "      <td>2.0</td>\n",
       "      <td>2.0</td>\n",
       "      <td>2.0</td>\n",
       "      <td>2.0</td>\n",
       "      <td>2.0</td>\n",
       "      <td>1</td>\n",
       "      <td>False</td>\n",
       "    </tr>\n",
       "    <tr>\n",
       "      <th>1</th>\n",
       "      <td>5.0</td>\n",
       "      <td>2.0</td>\n",
       "      <td>5.0</td>\n",
       "      <td>4.0</td>\n",
       "      <td>2.0</td>\n",
       "      <td>6.0</td>\n",
       "      <td>1.0</td>\n",
       "      <td>1.0</td>\n",
       "      <td>0.0</td>\n",
       "      <td>1.0</td>\n",
       "      <td>1.0</td>\n",
       "      <td>2.0</td>\n",
       "      <td>2.0</td>\n",
       "      <td>2.0</td>\n",
       "      <td>1.0</td>\n",
       "      <td>2</td>\n",
       "      <td>False</td>\n",
       "    </tr>\n",
       "    <tr>\n",
       "      <th>2</th>\n",
       "      <td>2.0</td>\n",
       "      <td>0.0</td>\n",
       "      <td>5.0</td>\n",
       "      <td>2.0</td>\n",
       "      <td>2.0</td>\n",
       "      <td>7.0</td>\n",
       "      <td>1.0</td>\n",
       "      <td>1.0</td>\n",
       "      <td>0.0</td>\n",
       "      <td>1.0</td>\n",
       "      <td>1.0</td>\n",
       "      <td>2.0</td>\n",
       "      <td>2.0</td>\n",
       "      <td>0.0</td>\n",
       "      <td>2.0</td>\n",
       "      <td>2</td>\n",
       "      <td>False</td>\n",
       "    </tr>\n",
       "    <tr>\n",
       "      <th>3</th>\n",
       "      <td>25.0</td>\n",
       "      <td>18.0</td>\n",
       "      <td>1.0</td>\n",
       "      <td>1.0</td>\n",
       "      <td>2.0</td>\n",
       "      <td>0.0</td>\n",
       "      <td>1.0</td>\n",
       "      <td>1.0</td>\n",
       "      <td>4.0</td>\n",
       "      <td>1.0</td>\n",
       "      <td>1.0</td>\n",
       "      <td>2.0</td>\n",
       "      <td>2.0</td>\n",
       "      <td>2.0</td>\n",
       "      <td>1.0</td>\n",
       "      <td>1</td>\n",
       "      <td>True</td>\n",
       "    </tr>\n",
       "    <tr>\n",
       "      <th>4</th>\n",
       "      <td>15.0</td>\n",
       "      <td>12.0</td>\n",
       "      <td>5.0</td>\n",
       "      <td>2.0</td>\n",
       "      <td>2.0</td>\n",
       "      <td>1.0</td>\n",
       "      <td>1.0</td>\n",
       "      <td>1.0</td>\n",
       "      <td>0.0</td>\n",
       "      <td>1.0</td>\n",
       "      <td>1.0</td>\n",
       "      <td>2.0</td>\n",
       "      <td>2.0</td>\n",
       "      <td>2.0</td>\n",
       "      <td>1.0</td>\n",
       "      <td>1</td>\n",
       "      <td>False</td>\n",
       "    </tr>\n",
       "    <tr>\n",
       "      <th>...</th>\n",
       "      <td>...</td>\n",
       "      <td>...</td>\n",
       "      <td>...</td>\n",
       "      <td>...</td>\n",
       "      <td>...</td>\n",
       "      <td>...</td>\n",
       "      <td>...</td>\n",
       "      <td>...</td>\n",
       "      <td>...</td>\n",
       "      <td>...</td>\n",
       "      <td>...</td>\n",
       "      <td>...</td>\n",
       "      <td>...</td>\n",
       "      <td>...</td>\n",
       "      <td>...</td>\n",
       "      <td>...</td>\n",
       "      <td>...</td>\n",
       "    </tr>\n",
       "    <tr>\n",
       "      <th>214475</th>\n",
       "      <td>42.0</td>\n",
       "      <td>22.0</td>\n",
       "      <td>1.0</td>\n",
       "      <td>1.0</td>\n",
       "      <td>2.0</td>\n",
       "      <td>0.0</td>\n",
       "      <td>1.0</td>\n",
       "      <td>1.0</td>\n",
       "      <td>4.0</td>\n",
       "      <td>1.0</td>\n",
       "      <td>1.0</td>\n",
       "      <td>2.0</td>\n",
       "      <td>2.0</td>\n",
       "      <td>2.0</td>\n",
       "      <td>2.0</td>\n",
       "      <td>1</td>\n",
       "      <td>True</td>\n",
       "    </tr>\n",
       "    <tr>\n",
       "      <th>214476</th>\n",
       "      <td>5.0</td>\n",
       "      <td>1.0</td>\n",
       "      <td>5.0</td>\n",
       "      <td>2.0</td>\n",
       "      <td>2.0</td>\n",
       "      <td>3.0</td>\n",
       "      <td>1.0</td>\n",
       "      <td>1.0</td>\n",
       "      <td>0.0</td>\n",
       "      <td>4.0</td>\n",
       "      <td>1.0</td>\n",
       "      <td>2.0</td>\n",
       "      <td>2.0</td>\n",
       "      <td>2.0</td>\n",
       "      <td>1.0</td>\n",
       "      <td>2</td>\n",
       "      <td>False</td>\n",
       "    </tr>\n",
       "    <tr>\n",
       "      <th>214477</th>\n",
       "      <td>56.0</td>\n",
       "      <td>16.0</td>\n",
       "      <td>5.0</td>\n",
       "      <td>2.0</td>\n",
       "      <td>2.0</td>\n",
       "      <td>0.0</td>\n",
       "      <td>1.0</td>\n",
       "      <td>1.0</td>\n",
       "      <td>4.0</td>\n",
       "      <td>2.0</td>\n",
       "      <td>1.0</td>\n",
       "      <td>2.0</td>\n",
       "      <td>2.0</td>\n",
       "      <td>2.0</td>\n",
       "      <td>1.0</td>\n",
       "      <td>3</td>\n",
       "      <td>True</td>\n",
       "    </tr>\n",
       "    <tr>\n",
       "      <th>214478</th>\n",
       "      <td>6.0</td>\n",
       "      <td>3.0</td>\n",
       "      <td>5.0</td>\n",
       "      <td>2.0</td>\n",
       "      <td>2.0</td>\n",
       "      <td>1.0</td>\n",
       "      <td>1.0</td>\n",
       "      <td>1.0</td>\n",
       "      <td>0.0</td>\n",
       "      <td>1.0</td>\n",
       "      <td>1.0</td>\n",
       "      <td>2.0</td>\n",
       "      <td>2.0</td>\n",
       "      <td>2.0</td>\n",
       "      <td>2.0</td>\n",
       "      <td>1</td>\n",
       "      <td>False</td>\n",
       "    </tr>\n",
       "    <tr>\n",
       "      <th>214479</th>\n",
       "      <td>50.0</td>\n",
       "      <td>21.0</td>\n",
       "      <td>1.0</td>\n",
       "      <td>0.0</td>\n",
       "      <td>2.0</td>\n",
       "      <td>0.0</td>\n",
       "      <td>1.0</td>\n",
       "      <td>1.0</td>\n",
       "      <td>4.0</td>\n",
       "      <td>4.0</td>\n",
       "      <td>1.0</td>\n",
       "      <td>2.0</td>\n",
       "      <td>2.0</td>\n",
       "      <td>2.0</td>\n",
       "      <td>2.0</td>\n",
       "      <td>1</td>\n",
       "      <td>True</td>\n",
       "    </tr>\n",
       "  </tbody>\n",
       "</table>\n",
       "<p>214480 rows × 17 columns</p>\n",
       "</div>"
      ],
      "text/plain": [
       "        AGEP  SCHL  MAR  RELP  DIS  ESP  CIT  MIG  MIL  ANC  NATIVITY  DEAR  \\\n",
       "0       62.0  13.0  3.0   0.0  2.0  0.0  4.0  3.0  4.0  1.0       2.0   2.0   \n",
       "1        5.0   2.0  5.0   4.0  2.0  6.0  1.0  1.0  0.0  1.0       1.0   2.0   \n",
       "2        2.0   0.0  5.0   2.0  2.0  7.0  1.0  1.0  0.0  1.0       1.0   2.0   \n",
       "3       25.0  18.0  1.0   1.0  2.0  0.0  1.0  1.0  4.0  1.0       1.0   2.0   \n",
       "4       15.0  12.0  5.0   2.0  2.0  1.0  1.0  1.0  0.0  1.0       1.0   2.0   \n",
       "...      ...   ...  ...   ...  ...  ...  ...  ...  ...  ...       ...   ...   \n",
       "214475  42.0  22.0  1.0   1.0  2.0  0.0  1.0  1.0  4.0  1.0       1.0   2.0   \n",
       "214476   5.0   1.0  5.0   2.0  2.0  3.0  1.0  1.0  0.0  4.0       1.0   2.0   \n",
       "214477  56.0  16.0  5.0   2.0  2.0  0.0  1.0  1.0  4.0  2.0       1.0   2.0   \n",
       "214478   6.0   3.0  5.0   2.0  2.0  1.0  1.0  1.0  0.0  1.0       1.0   2.0   \n",
       "214479  50.0  21.0  1.0   0.0  2.0  0.0  1.0  1.0  4.0  4.0       1.0   2.0   \n",
       "\n",
       "        DEYE  DREM  SEX  group  label  \n",
       "0        2.0   2.0  2.0      1  False  \n",
       "1        2.0   2.0  1.0      2  False  \n",
       "2        2.0   0.0  2.0      2  False  \n",
       "3        2.0   2.0  1.0      1   True  \n",
       "4        2.0   2.0  1.0      1  False  \n",
       "...      ...   ...  ...    ...    ...  \n",
       "214475   2.0   2.0  2.0      1   True  \n",
       "214476   2.0   2.0  1.0      2  False  \n",
       "214477   2.0   2.0  1.0      3   True  \n",
       "214478   2.0   2.0  2.0      1  False  \n",
       "214479   2.0   2.0  2.0      1   True  \n",
       "\n",
       "[214480 rows x 17 columns]"
      ]
     },
     "execution_count": 12,
     "metadata": {},
     "output_type": "execute_result"
    }
   ],
   "source": [
    "import pandas as pd\n",
    "df = pd.DataFrame(X_train, columns = features_to_use)\n",
    "df[\"group\"] = group_train\n",
    "df[\"label\"] = y_train\n",
    "df"
   ]
  },
  {
   "cell_type": "markdown",
   "metadata": {},
   "source": [
    "## 1. How many individuals are in the data?\n",
    "To find the number of individual in the data, we can take a look at the number of rows."
   ]
  },
  {
   "cell_type": "code",
   "execution_count": 52,
   "metadata": {},
   "outputs": [
    {
     "data": {
      "text/plain": [
       "214480"
      ]
     },
     "execution_count": 52,
     "metadata": {},
     "output_type": "execute_result"
    }
   ],
   "source": [
    "df.shape[0]"
   ]
  },
  {
   "cell_type": "markdown",
   "metadata": {},
   "source": [
    "## 2. Of these individuals, what proportion have target label equal to 1? In employment prediction, these would correspond to employed individuals.\n",
    "\n",
    "Because the employment vector is a column vector of booleans, the mean of that column will return the proportion of employed individuals in this dataset."
   ]
  },
  {
   "cell_type": "code",
   "execution_count": 50,
   "metadata": {},
   "outputs": [
    {
     "data": {
      "text/plain": [
       "np.float64(0.4513474449832152)"
      ]
     },
     "execution_count": 50,
     "metadata": {},
     "output_type": "execute_result"
    }
   ],
   "source": [
    "df[\"label\"].mean()\n"
   ]
  },
  {
   "cell_type": "markdown",
   "metadata": {},
   "source": [
    "## 3. Of these individuals, how many are in each of the groups?\n",
    "\n",
    "We can use the `value_counts()` method to get the number of people in each racial group."
   ]
  },
  {
   "cell_type": "code",
   "execution_count": 49,
   "metadata": {},
   "outputs": [
    {
     "data": {
      "text/plain": [
       "group\n",
       "1    165969\n",
       "2     20614\n",
       "8     10544\n",
       "6     10141\n",
       "9      5803\n",
       "3       836\n",
       "5       401\n",
       "7       158\n",
       "4        14\n",
       "Name: count, dtype: int64"
      ]
     },
     "execution_count": 49,
     "metadata": {},
     "output_type": "execute_result"
    }
   ],
   "source": [
    "df[\"group\"].value_counts()\n"
   ]
  },
  {
   "cell_type": "markdown",
   "metadata": {},
   "source": [
    "## 4. In each group, what proportion of individuals have target label equal to 1?\n",
    "\n",
    "We can use `groupby()` and `mean()` to get the proportions for each racial group."
   ]
  },
  {
   "cell_type": "code",
   "execution_count": null,
   "metadata": {},
   "outputs": [
    {
     "data": {
      "text/plain": [
       "group\n",
       "1    0.455242\n",
       "2    0.416756\n",
       "3    0.431818\n",
       "4    0.357143\n",
       "5    0.461347\n",
       "6    0.499359\n",
       "7    0.430380\n",
       "8    0.466711\n",
       "9    0.353955\n",
       "Name: label, dtype: float64"
      ]
     },
     "execution_count": 48,
     "metadata": {},
     "output_type": "execute_result"
    }
   ],
   "source": [
    "# Calculate the proportion of employed individuals in each racial group\n",
    "df.groupby(\"group\")[\"label\"].mean()"
   ]
  },
  {
   "cell_type": "markdown",
   "metadata": {},
   "source": [
    "## 5. Intersectional Trends\n",
    "\n",
    "We can take a look at the intersection of race and sex and how different combinations of the two effect employment. In this dataset 1 is male and 2 is female."
   ]
  },
  {
   "cell_type": "code",
   "execution_count": 13,
   "metadata": {},
   "outputs": [
    {
     "data": {
      "image/png": "[encoded data removed]",
      "text/plain": [
       "<Figure size 1000x600 with 1 Axes>"
      ]
     },
     "metadata": {},
     "output_type": "display_data"
    }
   ],
   "source": [
    "import matplotlib.pyplot as plt\n",
    "import seaborn as sns\n",
    "\n",
    "plt.figure(figsize=(10,6))\n",
    "intersectional_df = df.groupby([\"group\", \"SEX\"])[\"label\"].mean().reset_index()\n",
    "sns.barplot(x=\"group\", y=\"label\", hue=\"SEX\", data=intersectional_df)\n",
    "plt.title(\"Employment Proportion by Race and Sex\")\n",
    "plt.xlabel(\"Race\")\n",
    "plt.ylabel(\"Proportion Employed\")\n",
    "plt.legend(title=\"Sex\")\n",
    "plt.show()\n"
   ]
  },
  {
   "cell_type": "markdown",
   "metadata": {},
   "source": [
    "This bar chart displays the proportion of individuals employed across different racial groups, further broken down by sex. The two colors represent males (1.0) and females (2.0). Across most racial groups, there appears to be a consistent disparity in employment rates between males and females, with males generally having higher employment proportions than females. For example, in groups 4, 6, and 8, males show noticeably higher employment rates than females. However, in some cases, such as group 5, females have a higher employment rate than males. These disparities suggest that both race and sex impact employment outcomes, which could be an important factor to consider when evaluating fairness and bias in predictive models. Note that we are taking race out of our model as a feature, but this graph is interesting. "
   ]
  },
  {
   "cell_type": "markdown",
   "metadata": {},
   "source": [
    "Now that we've done some basic exploring of the data, we can start to build our model. I've decided to employ a RandomForest to try to predict employment status. To do this, I must tune the hyperparameter `max_depth`. In a Random Forest, tuning max_depth controls the maximum depth of each decision tree. The goal here is to try to balancing model complexity by preventing overfitting and underfitting with overly complex/simple trees.\n",
    "\n",
    "I created a for loop that tries different max_depths on Random Forest models. It uses 5 fold cross validation to test each max_depth and takes the mean of these 5 scores to determine which value performs the best."
   ]
  },
  {
   "cell_type": "code",
   "execution_count": 28,
   "metadata": {},
   "outputs": [
    {
     "name": "stdout",
     "output_type": "stream",
     "text": [
      "Training Random Forest with max_depth=5\n",
      "Mean CV Accuracy: 0.8168\n",
      "\n",
      "Training Random Forest with max_depth=10\n",
      "Mean CV Accuracy: 0.8252\n",
      "\n",
      "Training Random Forest with max_depth=20\n",
      "Mean CV Accuracy: 0.8252\n",
      "\n",
      "Training Random Forest with max_depth=30\n",
      "Mean CV Accuracy: 0.8066\n",
      "\n",
      "Best max_depth: 20 with accuracy: 0.8252\n"
     ]
    }
   ],
   "source": [
    "from sklearn.ensemble import RandomForestClassifier\n",
    "from sklearn.model_selection import cross_val_score\n",
    "import numpy as np\n",
    "\n",
    "# Define a range of max_depth values to test\n",
    "max_depth_values = [5, 10, 20, 30]  # Testing different depths\n",
    "\n",
    "\n",
    "best_score = 0  # Initialize best score\n",
    "best_depth = None  # Initialize best depth\n",
    "\n",
    "# Loop through different max_depth values\n",
    "for depth in max_depth_values:\n",
    "    print(f\"Training Random Forest with max_depth={depth}\")\n",
    "\n",
    "    # Initialize Random Forest with current max_depth\n",
    "    RF = RandomForestClassifier(max_depth=depth, random_state=7)\n",
    "\n",
    "    # Perform cross-validation (5-fold)\n",
    "    scores = cross_val_score(RF, X_train, y_train, cv=5)\n",
    "\n",
    "    # Compute mean accuracy\n",
    "    mean_score = np.mean(scores)\n",
    "    print(f\"Mean CV Accuracy: {mean_score:.4f}\\n\")\n",
    "\n",
    "    # Track the best performing max_depth\n",
    "    if mean_score > best_score:\n",
    "        best_score = mean_score\n",
    "        best_depth = depth\n",
    "\n",
    "# Print best depth and score\n",
    "print(f\"Best max_depth: {best_depth} with accuracy: {best_score:.4f}\")\n"
   ]
  },
  {
   "cell_type": "markdown",
   "metadata": {},
   "source": [
    "Based on the cross-validation results, max_depth = 20 is the optimal choice for the Random Forest model. At this depth, the model achieved the highest mean CV accuracy of 0.8252, indicating that it balances predictive power and generalization. While max_depth = 10 produced the same accuracy, deeper trees (max_depth = 30 and beyond) led to a decline in accuracy, suggesting potential overfitting.\n",
    "\n",
    "Using max_depth = 20 ensures that the model captures important patterns in the data without becoming too complex. This depth allows the model to generalize well to unseen data while maintaining strong performance. The final model will now be trained using this optimized hyperparameter and evaluated on the test set."
   ]
  },
  {
   "cell_type": "markdown",
   "metadata": {},
   "source": [
    "Here, I define and fit my Random Forest model. We can also extract the model predictions and store them in `y_hat`."
   ]
  },
  {
   "cell_type": "code",
   "execution_count": 15,
   "metadata": {},
   "outputs": [],
   "source": [
    "from sklearn.ensemble import RandomForestClassifier\n",
    "RF = RandomForestClassifier(max_depth=20, random_state=7)\n",
    "RF.fit(X_train, y_train)\n",
    "y_hat = RF.predict(X_test)\n"
   ]
  },
  {
   "cell_type": "markdown",
   "metadata": {},
   "source": [
    "# Overall Measures\n",
    "\n",
    "In this section, I will audit this Random Forest model for racial bias."
   ]
  },
  {
   "cell_type": "markdown",
   "metadata": {},
   "source": [
    "First, I defined a function that takes in the actual and predicted values for employment and calculates some important information about them. This function takes in the actual and predicted values and returns the accuracy, PPV (Positive Predictive Value), FNR (False Negative Rate), and FPR (False Positive Rate) in a dictionary. "
   ]
  },
  {
   "cell_type": "code",
   "execution_count": 16,
   "metadata": {},
   "outputs": [],
   "source": [
    "from sklearn.metrics import confusion_matrix\n",
    "# Define function to compute metrics manually without using .ravel()\n",
    "def compute_metrics(y_true, y_pred):\n",
    "    C = confusion_matrix(y_true, y_pred)\n",
    "\n",
    "    # Extract confusion matrix values manually\n",
    "    tn = C[0, 0] \n",
    "    fp = C[0, 1] \n",
    "    fn = C[1, 0] \n",
    "    tp = C[1, 1] \n",
    "\n",
    "    # Compute metrics\n",
    "    accuracy = (y_pred == y_true).mean()\n",
    "    ppv = tp / (tp + fp) \n",
    "    fnr = fn / (fn + tp) \n",
    "    fpr = fp / (fp + tn)\n",
    "\n",
    "    return pd.Series({\"Accuracy\": accuracy, \"PPV\": ppv, \"FNR\": fnr, \"FPR\": fpr})"
   ]
  },
  {
   "cell_type": "markdown",
   "metadata": {},
   "source": [
    "Now to take a look at the overall model preformance (without considering it by race) we get the following values for Accuracy, PPV, FNR, and FPR. "
   ]
  },
  {
   "cell_type": "code",
   "execution_count": 17,
   "metadata": {},
   "outputs": [
    {
     "data": {
      "text/plain": [
       "Accuracy    0.824562\n",
       "PPV         0.777926\n",
       "FNR         0.139930\n",
       "FPR         0.205100\n",
       "dtype: float64"
      ]
     },
     "execution_count": 17,
     "metadata": {},
     "output_type": "execute_result"
    }
   ],
   "source": [
    "compute_metrics(y_test, y_hat)"
   ]
  },
  {
   "cell_type": "markdown",
   "metadata": {},
   "source": [
    "Now we can take a look at how these values look for each of the 9 race categories using the same function. Here, I create a pandas dataframe with the test employment values (`y_test`), my model's predictions (`y_hat`), and the race (`group`). Then I use group by and lambda to apply the function by race."
   ]
  },
  {
   "cell_type": "code",
   "execution_count": 19,
   "metadata": {},
   "outputs": [
    {
     "name": "stderr",
     "output_type": "stream",
     "text": [
      "/var/folders/3p/_jcm4hhd7rj59x0q1n5_8yrw0000gn/T/ipykernel_2353/3277346927.py:8: DeprecationWarning: DataFrameGroupBy.apply operated on the grouping columns. This behavior is deprecated, and in a future version of pandas the grouping columns will be excluded from the operation. Either pass `include_groups=False` to exclude the groupings or explicitly select the grouping columns after groupby to silence this warning.\n",
      "  results_df = df_results.groupby(\"group\").apply(lambda g: compute_metrics(g[\"y_test\"], g[\"y_hat\"]))\n"
     ]
    },
    {
     "data": {
      "text/html": [
       "<div>\n",
       "<style scoped>\n",
       "    .dataframe tbody tr th:only-of-type {\n",
       "        vertical-align: middle;\n",
       "    }\n",
       "\n",
       "    .dataframe tbody tr th {\n",
       "        vertical-align: top;\n",
       "    }\n",
       "\n",
       "    .dataframe thead th {\n",
       "        text-align: right;\n",
       "    }\n",
       "</style>\n",
       "<table border=\"1\" class=\"dataframe\">\n",
       "  <thead>\n",
       "    <tr style=\"text-align: right;\">\n",
       "      <th></th>\n",
       "      <th>Accuracy</th>\n",
       "      <th>PPV</th>\n",
       "      <th>FNR</th>\n",
       "      <th>FPR</th>\n",
       "    </tr>\n",
       "    <tr>\n",
       "      <th>group</th>\n",
       "      <th></th>\n",
       "      <th></th>\n",
       "      <th></th>\n",
       "      <th></th>\n",
       "    </tr>\n",
       "  </thead>\n",
       "  <tbody>\n",
       "    <tr>\n",
       "      <th>1</th>\n",
       "      <td>0.824672</td>\n",
       "      <td>0.780110</td>\n",
       "      <td>0.140630</td>\n",
       "      <td>0.204641</td>\n",
       "    </tr>\n",
       "    <tr>\n",
       "      <th>2</th>\n",
       "      <td>0.829062</td>\n",
       "      <td>0.763998</td>\n",
       "      <td>0.139252</td>\n",
       "      <td>0.194065</td>\n",
       "    </tr>\n",
       "    <tr>\n",
       "      <th>3</th>\n",
       "      <td>0.802956</td>\n",
       "      <td>0.737864</td>\n",
       "      <td>0.146067</td>\n",
       "      <td>0.236842</td>\n",
       "    </tr>\n",
       "    <tr>\n",
       "      <th>4</th>\n",
       "      <td>0.833333</td>\n",
       "      <td>0.750000</td>\n",
       "      <td>0.000000</td>\n",
       "      <td>0.333333</td>\n",
       "    </tr>\n",
       "    <tr>\n",
       "      <th>5</th>\n",
       "      <td>0.807339</td>\n",
       "      <td>0.800000</td>\n",
       "      <td>0.185185</td>\n",
       "      <td>0.200000</td>\n",
       "    </tr>\n",
       "    <tr>\n",
       "      <th>6</th>\n",
       "      <td>0.803520</td>\n",
       "      <td>0.767733</td>\n",
       "      <td>0.116800</td>\n",
       "      <td>0.279966</td>\n",
       "    </tr>\n",
       "    <tr>\n",
       "      <th>7</th>\n",
       "      <td>0.851852</td>\n",
       "      <td>0.846154</td>\n",
       "      <td>0.153846</td>\n",
       "      <td>0.142857</td>\n",
       "    </tr>\n",
       "    <tr>\n",
       "      <th>8</th>\n",
       "      <td>0.815729</td>\n",
       "      <td>0.779201</td>\n",
       "      <td>0.151764</td>\n",
       "      <td>0.213091</td>\n",
       "    </tr>\n",
       "    <tr>\n",
       "      <th>9</th>\n",
       "      <td>0.861247</td>\n",
       "      <td>0.782609</td>\n",
       "      <td>0.139579</td>\n",
       "      <td>0.138274</td>\n",
       "    </tr>\n",
       "  </tbody>\n",
       "</table>\n",
       "</div>"
      ],
      "text/plain": [
       "       Accuracy       PPV       FNR       FPR\n",
       "group                                        \n",
       "1      0.824672  0.780110  0.140630  0.204641\n",
       "2      0.829062  0.763998  0.139252  0.194065\n",
       "3      0.802956  0.737864  0.146067  0.236842\n",
       "4      0.833333  0.750000  0.000000  0.333333\n",
       "5      0.807339  0.800000  0.185185  0.200000\n",
       "6      0.803520  0.767733  0.116800  0.279966\n",
       "7      0.851852  0.846154  0.153846  0.142857\n",
       "8      0.815729  0.779201  0.151764  0.213091\n",
       "9      0.861247  0.782609  0.139579  0.138274"
      ]
     },
     "execution_count": 19,
     "metadata": {},
     "output_type": "execute_result"
    }
   ],
   "source": [
    "import pandas as pd\n",
    "from sklearn.metrics import confusion_matrix\n",
    "\n",
    "# Create DataFrame with predictions and actual values\n",
    "df_results = pd.DataFrame({\"y_test\": y_test, \"y_hat\": y_hat, \"group\": group_test})\n",
    "\n",
    "# Apply function to each subgroup\n",
    "results_df = df_results.groupby(\"group\").apply(lambda g: compute_metrics(g[\"y_test\"], g[\"y_hat\"]))\n",
    "results_df"
   ]
  },
  {
   "cell_type": "markdown",
   "metadata": {},
   "source": [
    "Now I am preforming a check to see if my model is calibrated with respect to race. This chunk calculates the actual employment rate (from y_test) for each group, but only for cases where the model predicted employment (y_hat == 1). By grouping by \"group\" and taking the mean of y_test, it measures how often a positive prediction (y_hat = 1) was actually correct within each racial group. This helps determine if the model's positive predictions are equally reliable across different demographic groups."
   ]
  },
  {
   "cell_type": "code",
   "execution_count": 14,
   "metadata": {},
   "outputs": [
    {
     "data": {
      "text/plain": [
       "group\n",
       "1    0.780110\n",
       "2    0.763998\n",
       "3    0.737864\n",
       "4    0.750000\n",
       "5    0.800000\n",
       "6    0.767733\n",
       "7    0.846154\n",
       "8    0.779201\n",
       "9    0.782609\n",
       "Name: y_test, dtype: float64"
      ]
     },
     "execution_count": 14,
     "metadata": {},
     "output_type": "execute_result"
    }
   ],
   "source": [
    "# Compute actual employment rate when model predicts 1, by racial group\n",
    "calibration_check = df_results[df_results[\"y_hat\"] == 1].groupby(\"group\")[\"y_test\"].mean()\n",
    "calibration_check"
   ]
  },
  {
   "cell_type": "markdown",
   "metadata": {},
   "source": [
    "Based on these results, I conclude that this model is generally well calibrated. The check shows that the actual employment rates for individuals predicted as employed are fairly consistent across groups, ranging from approximately 0.737 to 0.846. No single group has an extreme deviation from the others, meaning that when the model predicts someone is employed, the likelihood of them actually being employed is fairly stable across racial groups. While perfect calibration would require these values to be exactly equal, this level of consistency suggests that the model does not exhibit significant calibration bias. If we wanted to be extra thorough, we could do a statistical test to see if these variations are significant or just random chance."
   ]
  },
  {
   "cell_type": "markdown",
   "metadata": {},
   "source": [
    "Now, I want to check if my model satisifies error rate balance. We can look at the dataframe from earlier to gauge if it satisfies error rate balance. "
   ]
  },
  {
   "cell_type": "code",
   "execution_count": 20,
   "metadata": {},
   "outputs": [
    {
     "data": {
      "text/html": [
       "<div>\n",
       "<style scoped>\n",
       "    .dataframe tbody tr th:only-of-type {\n",
       "        vertical-align: middle;\n",
       "    }\n",
       "\n",
       "    .dataframe tbody tr th {\n",
       "        vertical-align: top;\n",
       "    }\n",
       "\n",
       "    .dataframe thead th {\n",
       "        text-align: right;\n",
       "    }\n",
       "</style>\n",
       "<table border=\"1\" class=\"dataframe\">\n",
       "  <thead>\n",
       "    <tr style=\"text-align: right;\">\n",
       "      <th></th>\n",
       "      <th>Accuracy</th>\n",
       "      <th>PPV</th>\n",
       "      <th>FNR</th>\n",
       "      <th>FPR</th>\n",
       "    </tr>\n",
       "    <tr>\n",
       "      <th>group</th>\n",
       "      <th></th>\n",
       "      <th></th>\n",
       "      <th></th>\n",
       "      <th></th>\n",
       "    </tr>\n",
       "  </thead>\n",
       "  <tbody>\n",
       "    <tr>\n",
       "      <th>1</th>\n",
       "      <td>0.824672</td>\n",
       "      <td>0.780110</td>\n",
       "      <td>0.140630</td>\n",
       "      <td>0.204641</td>\n",
       "    </tr>\n",
       "    <tr>\n",
       "      <th>2</th>\n",
       "      <td>0.829062</td>\n",
       "      <td>0.763998</td>\n",
       "      <td>0.139252</td>\n",
       "      <td>0.194065</td>\n",
       "    </tr>\n",
       "    <tr>\n",
       "      <th>3</th>\n",
       "      <td>0.802956</td>\n",
       "      <td>0.737864</td>\n",
       "      <td>0.146067</td>\n",
       "      <td>0.236842</td>\n",
       "    </tr>\n",
       "    <tr>\n",
       "      <th>4</th>\n",
       "      <td>0.833333</td>\n",
       "      <td>0.750000</td>\n",
       "      <td>0.000000</td>\n",
       "      <td>0.333333</td>\n",
       "    </tr>\n",
       "    <tr>\n",
       "      <th>5</th>\n",
       "      <td>0.807339</td>\n",
       "      <td>0.800000</td>\n",
       "      <td>0.185185</td>\n",
       "      <td>0.200000</td>\n",
       "    </tr>\n",
       "    <tr>\n",
       "      <th>6</th>\n",
       "      <td>0.803520</td>\n",
       "      <td>0.767733</td>\n",
       "      <td>0.116800</td>\n",
       "      <td>0.279966</td>\n",
       "    </tr>\n",
       "    <tr>\n",
       "      <th>7</th>\n",
       "      <td>0.851852</td>\n",
       "      <td>0.846154</td>\n",
       "      <td>0.153846</td>\n",
       "      <td>0.142857</td>\n",
       "    </tr>\n",
       "    <tr>\n",
       "      <th>8</th>\n",
       "      <td>0.815729</td>\n",
       "      <td>0.779201</td>\n",
       "      <td>0.151764</td>\n",
       "      <td>0.213091</td>\n",
       "    </tr>\n",
       "    <tr>\n",
       "      <th>9</th>\n",
       "      <td>0.861247</td>\n",
       "      <td>0.782609</td>\n",
       "      <td>0.139579</td>\n",
       "      <td>0.138274</td>\n",
       "    </tr>\n",
       "  </tbody>\n",
       "</table>\n",
       "</div>"
      ],
      "text/plain": [
       "       Accuracy       PPV       FNR       FPR\n",
       "group                                        \n",
       "1      0.824672  0.780110  0.140630  0.204641\n",
       "2      0.829062  0.763998  0.139252  0.194065\n",
       "3      0.802956  0.737864  0.146067  0.236842\n",
       "4      0.833333  0.750000  0.000000  0.333333\n",
       "5      0.807339  0.800000  0.185185  0.200000\n",
       "6      0.803520  0.767733  0.116800  0.279966\n",
       "7      0.851852  0.846154  0.153846  0.142857\n",
       "8      0.815729  0.779201  0.151764  0.213091\n",
       "9      0.861247  0.782609  0.139579  0.138274"
      ]
     },
     "execution_count": 20,
     "metadata": {},
     "output_type": "execute_result"
    }
   ],
   "source": [
    "results_df"
   ]
  },
  {
   "cell_type": "markdown",
   "metadata": {},
   "source": [
    "From the table we can see that my model does not fully satisfy error rate balance across racial groups, as defined by Chouldechova. Error rate balance requires that FPR and FNR be approximately equal across all groups. I'd say that there is significant variation in both FNR and FPR across groups like FPR ranges from 0.138 to 0.333 and FNR ranges between 0.000 and 0.185. This indicates that some groups are disproportionately classified as false positives or false negatives."
   ]
  },
  {
   "cell_type": "markdown",
   "metadata": {},
   "source": [
    "Finally, I can check for statistical parity in my model. The code calculates the proportion of individuals predicted as employed (y_hat = 1) within each group by grouping the dataset by \"group\" and computing the mean of the predicted values. This provides insight into whether the model's predictions are distributed equally across different groups, which is used to assess statistical parity."
   ]
  },
  {
   "cell_type": "code",
   "execution_count": 25,
   "metadata": {},
   "outputs": [
    {
     "data": {
      "text/plain": [
       "group\n",
       "1    0.504468\n",
       "2    0.475355\n",
       "3    0.507389\n",
       "4    0.666667\n",
       "5    0.504587\n",
       "6    0.588621\n",
       "7    0.481481\n",
       "8    0.511565\n",
       "9    0.402943\n",
       "Name: y_hat, dtype: float64"
      ]
     },
     "execution_count": 25,
     "metadata": {},
     "output_type": "execute_result"
    }
   ],
   "source": [
    "# Compute the proportion of individuals predicted as employed (y_hat == 1) per group\n",
    "statistical_parity_check = df_results.groupby(\"group\")[\"y_hat\"].mean()\n",
    "statistical_parity_check"
   ]
  },
  {
   "cell_type": "markdown",
   "metadata": {},
   "source": [
    "Statistical parity requires that the proportion of individuals predicted as employed is approximately equal across all groups. Based on the output, the predicted employment rates range from 0.4029 (Group 9) to 0.6667 (Group 4), with noticeable variation across groups. Some groups have significantly higher predicted employment rates than others, particularly Group 4 (0.6667) compared to Group 9 (0.4029). Since these differences are quite substantial, the model does not strictly satisfy statistical parity, as predictions are not evenly distributed among groups. However, whether this deviation is acceptable depends on the fairness criteria being applied."
   ]
  },
  {
   "cell_type": "markdown",
   "metadata": {},
   "source": [
    "# Feasible FNR and FPR Rates\n",
    "\n"
   ]
  },
  {
   "cell_type": "markdown",
   "metadata": {},
   "source": [
    "### Equation 2.6\n",
    "\n",
    "$$\n",
    "\\text{FPR} = \\frac{p}{1 - p} \\cdot \\frac{1 - \\text{PPV}}{\\text{PPV}} \\cdot (1 - \\text{FNR})\n",
    "$$\n"
   ]
  },
  {
   "cell_type": "markdown",
   "metadata": {},
   "source": [
    "-FPR (False Positive Rate) is the probability that an actual negative instance is incorrectly classified as positive.\n",
    "-p (Prevalence) is rhe proportion of actual positive instances in the dataset.\n",
    "-PPV (Positive Predictive Value) is the probability that a predicted positive instance is actually positive.\n",
    "-FNR (False Negative Rate) is the probability that an actual positive instance is incorrectly classified as negative."
   ]
  },
  {
   "cell_type": "markdown",
   "metadata": {},
   "source": [
    "The below chunk calculates the feasible false positive rate (FPR) for each group using Equation 2.6 by incorporating the prevalence into the calculations. First, it computes the prevalence for each group by averaging the true labels (y_test) and merges this information into a dataframe. Then, using the given equation, it derives the Feasible FPR, which represents the expected false positive rate based on the observed prevalence, positive predictive value, and false negative rate. The updated dataframe displays the calculated feasible FPR alongside the actual FPR, allowing for a comparison of observed vs. theoretically feasible error rates across groups."
   ]
  },
  {
   "cell_type": "code",
   "execution_count": 21,
   "metadata": {},
   "outputs": [
    {
     "data": {
      "text/html": [
       "<div>\n",
       "<style scoped>\n",
       "    .dataframe tbody tr th:only-of-type {\n",
       "        vertical-align: middle;\n",
       "    }\n",
       "\n",
       "    .dataframe tbody tr th {\n",
       "        vertical-align: top;\n",
       "    }\n",
       "\n",
       "    .dataframe thead th {\n",
       "        text-align: right;\n",
       "    }\n",
       "</style>\n",
       "<table border=\"1\" class=\"dataframe\">\n",
       "  <thead>\n",
       "    <tr style=\"text-align: right;\">\n",
       "      <th></th>\n",
       "      <th>group</th>\n",
       "      <th>Accuracy</th>\n",
       "      <th>PPV</th>\n",
       "      <th>FNR</th>\n",
       "      <th>FPR</th>\n",
       "      <th>Prevalence</th>\n",
       "      <th>Feasible_FPR</th>\n",
       "    </tr>\n",
       "  </thead>\n",
       "  <tbody>\n",
       "    <tr>\n",
       "      <th>0</th>\n",
       "      <td>1</td>\n",
       "      <td>0.824672</td>\n",
       "      <td>0.780110</td>\n",
       "      <td>0.140630</td>\n",
       "      <td>0.204641</td>\n",
       "      <td>0.457941</td>\n",
       "      <td>0.204641</td>\n",
       "    </tr>\n",
       "    <tr>\n",
       "      <th>1</th>\n",
       "      <td>2</td>\n",
       "      <td>0.829062</td>\n",
       "      <td>0.763998</td>\n",
       "      <td>0.139252</td>\n",
       "      <td>0.194065</td>\n",
       "      <td>0.421924</td>\n",
       "      <td>0.194065</td>\n",
       "    </tr>\n",
       "    <tr>\n",
       "      <th>2</th>\n",
       "      <td>3</td>\n",
       "      <td>0.802956</td>\n",
       "      <td>0.737864</td>\n",
       "      <td>0.146067</td>\n",
       "      <td>0.236842</td>\n",
       "      <td>0.438424</td>\n",
       "      <td>0.236842</td>\n",
       "    </tr>\n",
       "    <tr>\n",
       "      <th>3</th>\n",
       "      <td>4</td>\n",
       "      <td>0.833333</td>\n",
       "      <td>0.750000</td>\n",
       "      <td>0.000000</td>\n",
       "      <td>0.333333</td>\n",
       "      <td>0.500000</td>\n",
       "      <td>0.333333</td>\n",
       "    </tr>\n",
       "    <tr>\n",
       "      <th>4</th>\n",
       "      <td>5</td>\n",
       "      <td>0.807339</td>\n",
       "      <td>0.800000</td>\n",
       "      <td>0.185185</td>\n",
       "      <td>0.200000</td>\n",
       "      <td>0.495413</td>\n",
       "      <td>0.200000</td>\n",
       "    </tr>\n",
       "    <tr>\n",
       "      <th>5</th>\n",
       "      <td>6</td>\n",
       "      <td>0.803520</td>\n",
       "      <td>0.767733</td>\n",
       "      <td>0.116800</td>\n",
       "      <td>0.279966</td>\n",
       "      <td>0.511666</td>\n",
       "      <td>0.279966</td>\n",
       "    </tr>\n",
       "    <tr>\n",
       "      <th>6</th>\n",
       "      <td>7</td>\n",
       "      <td>0.851852</td>\n",
       "      <td>0.846154</td>\n",
       "      <td>0.153846</td>\n",
       "      <td>0.142857</td>\n",
       "      <td>0.481481</td>\n",
       "      <td>0.142857</td>\n",
       "    </tr>\n",
       "    <tr>\n",
       "      <th>7</th>\n",
       "      <td>8</td>\n",
       "      <td>0.815729</td>\n",
       "      <td>0.779201</td>\n",
       "      <td>0.151764</td>\n",
       "      <td>0.213091</td>\n",
       "      <td>0.469931</td>\n",
       "      <td>0.213091</td>\n",
       "    </tr>\n",
       "    <tr>\n",
       "      <th>8</th>\n",
       "      <td>9</td>\n",
       "      <td>0.861247</td>\n",
       "      <td>0.782609</td>\n",
       "      <td>0.139579</td>\n",
       "      <td>0.138274</td>\n",
       "      <td>0.366503</td>\n",
       "      <td>0.138274</td>\n",
       "    </tr>\n",
       "  </tbody>\n",
       "</table>\n",
       "</div>"
      ],
      "text/plain": [
       "   group  Accuracy       PPV       FNR       FPR  Prevalence  Feasible_FPR\n",
       "0      1  0.824672  0.780110  0.140630  0.204641    0.457941      0.204641\n",
       "1      2  0.829062  0.763998  0.139252  0.194065    0.421924      0.194065\n",
       "2      3  0.802956  0.737864  0.146067  0.236842    0.438424      0.236842\n",
       "3      4  0.833333  0.750000  0.000000  0.333333    0.500000      0.333333\n",
       "4      5  0.807339  0.800000  0.185185  0.200000    0.495413      0.200000\n",
       "5      6  0.803520  0.767733  0.116800  0.279966    0.511666      0.279966\n",
       "6      7  0.851852  0.846154  0.153846  0.142857    0.481481      0.142857\n",
       "7      8  0.815729  0.779201  0.151764  0.213091    0.469931      0.213091\n",
       "8      9  0.861247  0.782609  0.139579  0.138274    0.366503      0.138274"
      ]
     },
     "execution_count": 21,
     "metadata": {},
     "output_type": "execute_result"
    }
   ],
   "source": [
    "import pandas as pd\n",
    "\n",
    "# Assuming results_df already contains 'group', 'PPV', 'FNR', and 'FPR'\n",
    "# Compute prevalence (p) for each group using y_test from df_results (individual-level data)\n",
    "prevalence = df_results.groupby(\"group\")[\"y_test\"].mean().reset_index()\n",
    "prevalence.columns = [\"group\", \"Prevalence\"]\n",
    "\n",
    "# Merge prevalence into results_df\n",
    "results_df = results_df.merge(prevalence, on=\"group\", how=\"left\")\n",
    "\n",
    "# Compute Feasible FPR using Equation (2.6)\n",
    "results_df[\"Feasible_FPR\"] = (results_df[\"Prevalence\"] / (1 - results_df[\"Prevalence\"])) * \\\n",
    "                             ((1 - results_df[\"PPV\"]) / results_df[\"PPV\"]) * \\\n",
    "                             (1 - results_df[\"FNR\"])\n",
    "\n",
    "results_df"
   ]
  },
  {
   "cell_type": "markdown",
   "metadata": {},
   "source": [
    "Now we can generate a graph to view the Feasible (FNR, FPR) Combinations graph. This is inspired by Chouldechova’s figure 5 from the reading. It plots the observed false negative rates (FNR) and false positive rates (FPR) for each group alongside the theoretically feasible FNR-FPR tradeoff lines derived from Equation 2.6. The tradeoff lines are calculated using the prevalence-adjusted feasible FPR values, showing the relationship between error rates across groups. Each group is assigned a unique color, ensuring that the observed points match their respective feasible tradeoff lines. This visualization helps assess how well the observed FNR-FPR values align with the theoretically achievable fairness constraints."
   ]
  },
  {
   "cell_type": "code",
   "execution_count": 25,
   "metadata": {},
   "outputs": [
    {
     "data": {
      "image/png": "[encoded data removed]",
      "text/plain": [
       "<Figure size 700x500 with 1 Axes>"
      ]
     },
     "metadata": {},
     "output_type": "display_data"
    }
   ],
   "source": [
    "import matplotlib.pyplot as plt\n",
    "import numpy as np\n",
    "import pandas as pd\n",
    "\n",
    "# Extract observed values from results_df\n",
    "groups = results_df[\"group\"]\n",
    "FNR = results_df[\"FNR\"]\n",
    "FPR = results_df[\"FPR\"]\n",
    "Feasible_FPR = results_df[\"Feasible_FPR\"]  # Precomputed from the equation\n",
    "\n",
    "# Define colors for each group\n",
    "colors = plt.cm.tab10(np.linspace(0, 1, len(groups)))  # Using tab10 colormap\n",
    "\n",
    "# Generate feasible FNR-FPR tradeoff line using equation\n",
    "fnr_range = np.linspace(0, 1, 100)\n",
    "\n",
    "# Compute target FPR (equalizing across all groups)\n",
    "target_fpr = np.mean(FPR)\n",
    "\n",
    "# Define prevalence (p) and positive predictive value (PPV) - Assumed fixed\n",
    "p = 0.5  # Example prevalence\n",
    "ppv = 0.6  # Example PPV\n",
    "\n",
    "# Compute required FNR adjustments using Equation (2.6)\n",
    "Required_FNR_Adjustment = 1 - (target_fpr * (1 - p) * ppv) / (p * (1 - ppv)) - FNR\n",
    "\n",
    "# Store adjustments back into results_df\n",
    "results_df[\"Required_FNR_Adjustment\"] = Required_FNR_Adjustment\n",
    "\n",
    "# Create figure\n",
    "plt.figure(figsize=(7, 5))\n",
    "\n",
    "# Plot feasible tradeoff lines and corresponding observed points\n",
    "for i, group in enumerate(groups):\n",
    "    color = colors[i]  # Assign color to group\n",
    "    plt.plot(fnr_range, Feasible_FPR[i] * (1 - fnr_range), color=color, label=f\"Feasible for Group {group}\")\n",
    "    plt.scatter(FNR[i], FPR[i], color=color, edgecolors=\"black\", s=50, zorder=3)  # Matching color with a black outline\n",
    "\n",
    "# Labels and styling\n",
    "plt.xlabel(\"False Negative Rate (FNR)\")\n",
    "plt.ylabel(\"False Positive Rate (FPR)\")\n",
    "plt.title(\"Feasible (FNR, FPR) Combinations with Prevalence Constraint\")\n",
    "plt.legend()\n",
    "plt.grid(True, linestyle=\"--\", alpha=0.6)\n",
    "\n",
    "# Show plot\n",
    "plt.show()\n",
    "\n"
   ]
  },
  {
   "cell_type": "code",
   "execution_count": 27,
   "metadata": {},
   "outputs": [
    {
     "data": {
      "text/plain": [
       "0    0.535525\n",
       "1    0.536903\n",
       "2    0.530087\n",
       "3    0.676155\n",
       "4    0.490970\n",
       "5    0.559355\n",
       "6    0.522309\n",
       "7    0.524391\n",
       "8    0.536576\n",
       "Name: Required_FNR_Adjustment, dtype: float64"
      ]
     },
     "execution_count": 27,
     "metadata": {},
     "output_type": "execute_result"
    }
   ],
   "source": [
    "results_df[\"Required_FNR_Adjustment\"]"
   ]
  },
  {
   "cell_type": "markdown",
   "metadata": {},
   "source": [
    "The analysis of feasible false negative rates (FNR) and false positive rates (FPR) using equation (2.6) provides insights into how fair the model could be across groups. The generated plot compares the observed FNR-FPR values against theoretically feasible values, given fixed prevalence and positive predictive value (PPV). While the observed points generally align with the feasible trade-offs, some groups exhibit deviations, indicating disparities in error rates. To enforce fairness by equalizing FPR across groups, the model's decision thresholds would need adjustment, which, according to equation (2.6), would require modifying the FNR distribution. This trade-off highlights the challenge of simultaneously achieving error rate balance while maintaining predictive performance. Overall, while the model operates within a reasonable range of feasible FNR-FPR values, further refinements may be necessary to ensure parity across groups, depending on the fairness criteria prioritized.\n",
    "\n",
    "If we take a look at the `Required_FNR_Adjustment` values across groups, we can see that if we acheive equalty there needs to be modification to the FNR. Some groups require relatively small adjustments (ex: ~0.49), while others demand more significant shifts (ex: ~0.67), further highlighting disparities in the model’s treatment of different groups. Most notably, Group 4 exhibits the highest required FNR adjustment, indicating that its current false negative rate is substantially lower than what would be needed for equalized FPR. On the other side, Group 5 requires the least modification (0.490), suggesting it is already closer to the equalized threshold. These discrepancies show that it is difficult to balance fairness and preserve model performance at the same time. Reducing FPR differences across groups will affect the trade-off between false positives and false negatives. "
   ]
  },
  {
   "cell_type": "markdown",
   "metadata": {},
   "source": [
    "# Conclusion"
   ]
  },
  {
   "cell_type": "markdown",
   "metadata": {},
   "source": [
    "A model that predicts employment status could benefit job seekers by providing insights into hiring patterns and helping them optimize their applications. A company like a recruitingment agency could use this model to help its client get insights into how to atain jobs easier. Another example is a firm that is looking to expand and leverage the model to assess candidate pools more efficiently. This is very prevalent right now with in many industries. A final example could be a bank assesing whether or not to give someone a loan. They could predict employement and either give or deny someone a loan. \n",
    "\n",
    "Deploying this model on a large scale could have significant societal implications, particularly due to disparities in false positive rates (FPR) and false negative rates (FNR) across groups. Some groups in the dataset exhibit higher FNRs, meaning they are more likely to be incorrectly classified as unemployed when they are actually employed, which could unfairly limit opportunities for individuals in those groups. Similarly, groups with higher FPRs may be incorrectly classified as employed when they are not, potentially leading to misallocation of resources or hiring biases. These inconsistencies could reinforce existing disparities in employment and financial decision-making if the model is used without bias mitigation strategies.\n",
    "\n",
    "I've concluded that the model appears to be well-calibrated but does not satisfy error rate balance across groups. The observed disparities in false positive and false negative rates suggest that some racial groups are more likely to be incorrectly classified as employed or unemployed. This type of bias could have severe consequences as mentioned above.\n",
    "\n",
    "Beyond bias, another conern that I have for this algoritm is data privacy. If used in hiring or financial decisions, the model might become a black box that unfairly determines people's opportunities without transparency. That is why it is importing to complete bias audits for all ML systems. Additionally, there could be bias baked into the actual data itself, not just the algorithm. If the data itself is biased, this could create a negative feedback group that affects marginalized groups in an unfair manner. \n"
   ]
  }
 ],
 "metadata": {
  "kernelspec": {
   "display_name": "ml-0451",
   "language": "python",
   "name": "python3"
  },
  "language_info": {
   "codemirror_mode": {
    "name": "ipython",
    "version": 3
   },
   "file_extension": ".py",
   "mimetype": "text/x-python",
   "name": "python",
   "nbconvert_exporter": "python",
   "pygments_lexer": "ipython3",
   "version": "3.12.8"
  }
 },
 "nbformat": 4,
 "nbformat_minor": 4
}
